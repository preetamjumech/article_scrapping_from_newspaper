{
  "nbformat": 4,
  "nbformat_minor": 0,
  "metadata": {
    "colab": {
      "provenance": [],
      "authorship_tag": "ABX9TyPzdx73skFQI1dhpTFqSSO0",
      "include_colab_link": true
    },
    "kernelspec": {
      "name": "python3",
      "display_name": "Python 3"
    },
    "language_info": {
      "name": "python"
    }
  },
  "cells": [
    {
      "cell_type": "markdown",
      "metadata": {
        "id": "view-in-github",
        "colab_type": "text"
      },
      "source": [
        "<a href=\"https://colab.research.google.com/github/preetamjumech/article_scrapping_from_newspaper/blob/main/Article_Scrapping_from_Newspaper.ipynb\" target=\"_parent\"><img src=\"https://colab.research.google.com/assets/colab-badge.svg\" alt=\"Open In Colab\"/></a>"
      ]
    },
    {
      "cell_type": "code",
      "source": [
        "!pip install newspaper3k"
      ],
      "metadata": {
        "id": "dJp2qyStn2Df"
      },
      "execution_count": null,
      "outputs": []
    },
    {
      "cell_type": "code",
      "source": [
        "import nltk"
      ],
      "metadata": {
        "id": "XsFnAWproqS9"
      },
      "execution_count": null,
      "outputs": []
    },
    {
      "cell_type": "code",
      "source": [
        "nltk.download('punkt')"
      ],
      "metadata": {
        "colab": {
          "base_uri": "https://localhost:8080/"
        },
        "id": "B1YcsBRzoqd6",
        "outputId": "13daa58f-6a55-4160-b8eb-bcfd569d42d7"
      },
      "execution_count": null,
      "outputs": [
        {
          "output_type": "stream",
          "name": "stderr",
          "text": [
            "[nltk_data] Downloading package punkt to /root/nltk_data...\n",
            "[nltk_data]   Unzipping tokenizers/punkt.zip.\n"
          ]
        },
        {
          "output_type": "execute_result",
          "data": {
            "text/plain": [
              "True"
            ]
          },
          "metadata": {},
          "execution_count": 6
        }
      ]
    },
    {
      "cell_type": "code",
      "source": [
        "from newspaper import Article\n",
        "\n",
        "#A new article from TOI\n",
        "url = \"https://timesofindia.indiatimes.com/city/mumbai/maharashtra-board-schools-start-academic-year-for-class-10th/articleshow/99226451.cms\"\n",
        "\n",
        "#For different language newspaper refer above table\n",
        "toi_article = Article(url, language=\"en\") # en for English\n",
        "\n",
        "#To download the article\n",
        "toi_article.download()\n",
        "\n",
        "#To parse the article\n",
        "toi_article.parse()\n",
        "\n",
        "#To perform natural language processing ie..nlp\n",
        "toi_article.nlp()\n",
        "\n",
        "#To extract title\n",
        "print(\"Article's Title:\")\n",
        "print(toi_article.title)\n",
        "print(\"n\")\n",
        "\n",
        "#To extract text\n",
        "print(\"Article's Text:\")\n",
        "print(toi_article.text)\n",
        "print(\"n\")\n",
        "\n",
        "#To extract summary\n",
        "print(\"Article's Summary:\")\n",
        "print(toi_article.summary)\n",
        "print(\"n\")\n",
        "\n",
        "#To extract keywords\n",
        "print(\"Article's Keywords:\")\n",
        "print(toi_article.keywords)"
      ],
      "metadata": {
        "colab": {
          "base_uri": "https://localhost:8080/"
        },
        "id": "umm_knsyoDOC",
        "outputId": "c42c8c3c-05a9-4145-9009-53d2c494506a"
      },
      "execution_count": null,
      "outputs": [
        {
          "output_type": "stream",
          "name": "stdout",
          "text": [
            "Article's Title:\n",
            "Maharashtra board schools start academic year for class 10th\n",
            "n\n",
            "Article's Text:\n",
            "MUMBAI: On the lines of CBSE and ICSE, a number of state board schools have begun their new academic year 2023-24 for class 10 students.Non-state board schools start the new academic year in late March and early April for all classes, before they break for summer vacations in May. State board schools have started regular classes for SSC students.They will go on vacation in May and return early June to continue their academic journey. \"We conducted class ninth exams simultaneously with the SSC exams. The class 10 classes began from April 1 with five lectures of 50 minutes each,\" said the principal of a Ghatkopar school.Students of all other classes will go on vacation in mid-April and their results will be announced at the end of the month. Principals said beginning early helps finish the syllabus by December and students get sufficient time to prepare for the board exams. \"By the time the schools reopen in mid-June, class 10 students are prepared for their first exam,\" said a principal. In the beginning of academic year, students are familiarised with board exams, question paper pattern and are guided on how to prepare, said a class 10 teacher.\n",
            "n\n",
            "Article's Summary:\n",
            "MUMBAI: On the lines of CBSE and ICSE, a number of state board schools have begun their new academic year 2023-24 for class 10 students.Non-state board schools start the new academic year in late March and early April for all classes, before they break for summer vacations in May.\n",
            "State board schools have started regular classes for SSC students.They will go on vacation in May and return early June to continue their academic journey.\n",
            "Principals said beginning early helps finish the syllabus by December and students get sufficient time to prepare for the board exams.\n",
            "\"By the time the schools reopen in mid-June, class 10 students are prepared for their first exam,\" said a principal.\n",
            "In the beginning of academic year, students are familiarised with board exams, question paper pattern and are guided on how to prepare, said a class 10 teacher.\n",
            "n\n",
            "Article's Keywords:\n",
            "['early', 'exams', 'students', 'board', 'schools', 'classes', 'start', 'vacation', 'class', 'academic', 'maharashtra', '10th', 'state']\n"
          ]
        }
      ]
    },
    {
      "cell_type": "code",
      "source": [],
      "metadata": {
        "id": "9yeHKBo0oRLM"
      },
      "execution_count": null,
      "outputs": []
    }
  ]
}